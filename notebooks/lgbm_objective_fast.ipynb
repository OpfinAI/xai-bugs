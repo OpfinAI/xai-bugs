{
    "cells": [
        {
            "cell_type": "code",
            "execution_count": 1,
            "metadata": {},
            "outputs": [],
            "source": [
                "import fasttreeshap\n",
                "import pandas as pd\n",
                "import lightgbm as lgb\n",
                "from sklearn.datasets import fetch_california_housing"
            ]
        },
        {
            "cell_type": "markdown",
            "metadata": {},
            "source": [
                "# Output LightGBM version."
            ]
        },
        {
            "cell_type": "code",
            "execution_count": 2,
            "metadata": {},
            "outputs": [
                {
                    "data": {
                        "text/plain": [
                            "'3.3.2'"
                        ]
                    },
                    "execution_count": 2,
                    "metadata": {},
                    "output_type": "execute_result"
                }
            ],
            "source": [
                "lgb.__version__"
            ]
        },
        {
            "cell_type": "markdown",
            "metadata": {},
            "source": [
                "# Output FastTreeShap version."
            ]
        },
        {
            "cell_type": "code",
            "execution_count": 3,
            "metadata": {},
            "outputs": [
                {
                    "data": {
                        "text/plain": [
                            "'0.1.1'"
                        ]
                    },
                    "execution_count": 3,
                    "metadata": {},
                    "output_type": "execute_result"
                }
            ],
            "source": [
                "fasttreeshap.__version__"
            ]
        },
        {
            "cell_type": "markdown",
            "metadata": {},
            "source": [
                "# Retrieve and prepare data."
            ]
        },
        {
            "cell_type": "code",
            "execution_count": 4,
            "metadata": {},
            "outputs": [
                {
                    "data": {
                        "text/plain": [
                            "dict_keys(['data', 'target', 'frame', 'target_names', 'feature_names', 'DESCR'])"
                        ]
                    },
                    "execution_count": 4,
                    "metadata": {},
                    "output_type": "execute_result"
                }
            ],
            "source": [
                "dataset = fetch_california_housing()\n",
                "dataset.keys()"
            ]
        },
        {
            "cell_type": "code",
            "execution_count": 5,
            "metadata": {},
            "outputs": [
                {
                    "data": {
                        "text/html": [
                            "<div>\n",
                            "<style scoped>\n",
                            "    .dataframe tbody tr th:only-of-type {\n",
                            "        vertical-align: middle;\n",
                            "    }\n",
                            "\n",
                            "    .dataframe tbody tr th {\n",
                            "        vertical-align: top;\n",
                            "    }\n",
                            "\n",
                            "    .dataframe thead th {\n",
                            "        text-align: right;\n",
                            "    }\n",
                            "</style>\n",
                            "<table border=\"1\" class=\"dataframe\">\n",
                            "  <thead>\n",
                            "    <tr style=\"text-align: right;\">\n",
                            "      <th></th>\n",
                            "      <th>MedInc</th>\n",
                            "      <th>HouseAge</th>\n",
                            "      <th>AveRooms</th>\n",
                            "      <th>AveBedrms</th>\n",
                            "      <th>Population</th>\n",
                            "      <th>AveOccup</th>\n",
                            "      <th>Latitude</th>\n",
                            "      <th>Longitude</th>\n",
                            "    </tr>\n",
                            "  </thead>\n",
                            "  <tbody>\n",
                            "    <tr>\n",
                            "      <th>0</th>\n",
                            "      <td>8.3252</td>\n",
                            "      <td>41.0</td>\n",
                            "      <td>6.984127</td>\n",
                            "      <td>1.023810</td>\n",
                            "      <td>322.0</td>\n",
                            "      <td>2.555556</td>\n",
                            "      <td>37.88</td>\n",
                            "      <td>-122.23</td>\n",
                            "    </tr>\n",
                            "    <tr>\n",
                            "      <th>1</th>\n",
                            "      <td>8.3014</td>\n",
                            "      <td>21.0</td>\n",
                            "      <td>6.238137</td>\n",
                            "      <td>0.971880</td>\n",
                            "      <td>2401.0</td>\n",
                            "      <td>2.109842</td>\n",
                            "      <td>37.86</td>\n",
                            "      <td>-122.22</td>\n",
                            "    </tr>\n",
                            "    <tr>\n",
                            "      <th>2</th>\n",
                            "      <td>7.2574</td>\n",
                            "      <td>52.0</td>\n",
                            "      <td>8.288136</td>\n",
                            "      <td>1.073446</td>\n",
                            "      <td>496.0</td>\n",
                            "      <td>2.802260</td>\n",
                            "      <td>37.85</td>\n",
                            "      <td>-122.24</td>\n",
                            "    </tr>\n",
                            "    <tr>\n",
                            "      <th>3</th>\n",
                            "      <td>5.6431</td>\n",
                            "      <td>52.0</td>\n",
                            "      <td>5.817352</td>\n",
                            "      <td>1.073059</td>\n",
                            "      <td>558.0</td>\n",
                            "      <td>2.547945</td>\n",
                            "      <td>37.85</td>\n",
                            "      <td>-122.25</td>\n",
                            "    </tr>\n",
                            "    <tr>\n",
                            "      <th>4</th>\n",
                            "      <td>3.8462</td>\n",
                            "      <td>52.0</td>\n",
                            "      <td>6.281853</td>\n",
                            "      <td>1.081081</td>\n",
                            "      <td>565.0</td>\n",
                            "      <td>2.181467</td>\n",
                            "      <td>37.85</td>\n",
                            "      <td>-122.25</td>\n",
                            "    </tr>\n",
                            "    <tr>\n",
                            "      <th>...</th>\n",
                            "      <td>...</td>\n",
                            "      <td>...</td>\n",
                            "      <td>...</td>\n",
                            "      <td>...</td>\n",
                            "      <td>...</td>\n",
                            "      <td>...</td>\n",
                            "      <td>...</td>\n",
                            "      <td>...</td>\n",
                            "    </tr>\n",
                            "    <tr>\n",
                            "      <th>20635</th>\n",
                            "      <td>1.5603</td>\n",
                            "      <td>25.0</td>\n",
                            "      <td>5.045455</td>\n",
                            "      <td>1.133333</td>\n",
                            "      <td>845.0</td>\n",
                            "      <td>2.560606</td>\n",
                            "      <td>39.48</td>\n",
                            "      <td>-121.09</td>\n",
                            "    </tr>\n",
                            "    <tr>\n",
                            "      <th>20636</th>\n",
                            "      <td>2.5568</td>\n",
                            "      <td>18.0</td>\n",
                            "      <td>6.114035</td>\n",
                            "      <td>1.315789</td>\n",
                            "      <td>356.0</td>\n",
                            "      <td>3.122807</td>\n",
                            "      <td>39.49</td>\n",
                            "      <td>-121.21</td>\n",
                            "    </tr>\n",
                            "    <tr>\n",
                            "      <th>20637</th>\n",
                            "      <td>1.7000</td>\n",
                            "      <td>17.0</td>\n",
                            "      <td>5.205543</td>\n",
                            "      <td>1.120092</td>\n",
                            "      <td>1007.0</td>\n",
                            "      <td>2.325635</td>\n",
                            "      <td>39.43</td>\n",
                            "      <td>-121.22</td>\n",
                            "    </tr>\n",
                            "    <tr>\n",
                            "      <th>20638</th>\n",
                            "      <td>1.8672</td>\n",
                            "      <td>18.0</td>\n",
                            "      <td>5.329513</td>\n",
                            "      <td>1.171920</td>\n",
                            "      <td>741.0</td>\n",
                            "      <td>2.123209</td>\n",
                            "      <td>39.43</td>\n",
                            "      <td>-121.32</td>\n",
                            "    </tr>\n",
                            "    <tr>\n",
                            "      <th>20639</th>\n",
                            "      <td>2.3886</td>\n",
                            "      <td>16.0</td>\n",
                            "      <td>5.254717</td>\n",
                            "      <td>1.162264</td>\n",
                            "      <td>1387.0</td>\n",
                            "      <td>2.616981</td>\n",
                            "      <td>39.37</td>\n",
                            "      <td>-121.24</td>\n",
                            "    </tr>\n",
                            "  </tbody>\n",
                            "</table>\n",
                            "<p>20640 rows × 8 columns</p>\n",
                            "</div>"
                        ],
                        "text/plain": [
                            "       MedInc  HouseAge  AveRooms  AveBedrms  Population  AveOccup  Latitude  \\\n",
                            "0      8.3252      41.0  6.984127   1.023810       322.0  2.555556     37.88   \n",
                            "1      8.3014      21.0  6.238137   0.971880      2401.0  2.109842     37.86   \n",
                            "2      7.2574      52.0  8.288136   1.073446       496.0  2.802260     37.85   \n",
                            "3      5.6431      52.0  5.817352   1.073059       558.0  2.547945     37.85   \n",
                            "4      3.8462      52.0  6.281853   1.081081       565.0  2.181467     37.85   \n",
                            "...       ...       ...       ...        ...         ...       ...       ...   \n",
                            "20635  1.5603      25.0  5.045455   1.133333       845.0  2.560606     39.48   \n",
                            "20636  2.5568      18.0  6.114035   1.315789       356.0  3.122807     39.49   \n",
                            "20637  1.7000      17.0  5.205543   1.120092      1007.0  2.325635     39.43   \n",
                            "20638  1.8672      18.0  5.329513   1.171920       741.0  2.123209     39.43   \n",
                            "20639  2.3886      16.0  5.254717   1.162264      1387.0  2.616981     39.37   \n",
                            "\n",
                            "       Longitude  \n",
                            "0        -122.23  \n",
                            "1        -122.22  \n",
                            "2        -122.24  \n",
                            "3        -122.25  \n",
                            "4        -122.25  \n",
                            "...          ...  \n",
                            "20635    -121.09  \n",
                            "20636    -121.21  \n",
                            "20637    -121.22  \n",
                            "20638    -121.32  \n",
                            "20639    -121.24  \n",
                            "\n",
                            "[20640 rows x 8 columns]"
                        ]
                    },
                    "execution_count": 5,
                    "metadata": {},
                    "output_type": "execute_result"
                }
            ],
            "source": [
                "X = pd.DataFrame(dataset[\"data\"], columns=dataset[\"feature_names\"])\n",
                "X"
            ]
        },
        {
            "cell_type": "code",
            "execution_count": 6,
            "metadata": {},
            "outputs": [
                {
                    "data": {
                        "text/plain": [
                            "0        4.526\n",
                            "1        3.585\n",
                            "2        3.521\n",
                            "3        3.413\n",
                            "4        3.422\n",
                            "         ...  \n",
                            "20635    0.781\n",
                            "20636    0.771\n",
                            "20637    0.923\n",
                            "20638    0.847\n",
                            "20639    0.894\n",
                            "Name: MedHouseVal, Length: 20640, dtype: float64"
                        ]
                    },
                    "execution_count": 6,
                    "metadata": {},
                    "output_type": "execute_result"
                }
            ],
            "source": [
                "y = pd.Series(dataset[\"target\"], name=dataset[\"target_names\"][0])\n",
                "y"
            ]
        },
        {
            "cell_type": "markdown",
            "metadata": {},
            "source": [
                "# Train LightGBM booster using the Training API instead of the Scikit-learn API.  \n",
                "### LightGBM's default for the parameter `\"objective\"` is `\"regression\"`."
            ]
        },
        {
            "cell_type": "code",
            "execution_count": 7,
            "metadata": {},
            "outputs": [
                {
                    "name": "stdout",
                    "output_type": "stream",
                    "text": [
                        "[LightGBM] [Warning] Auto-choosing col-wise multi-threading, the overhead of testing was 0.001004 seconds.\n",
                        "You can set `force_col_wise=true` to remove the overhead.\n",
                        "[LightGBM] [Info] Total Bins 1838\n",
                        "[LightGBM] [Info] Number of data points in the train set: 20640, number of used features: 8\n",
                        "[LightGBM] [Info] Start training from score 2.068558\n"
                    ]
                },
                {
                    "data": {
                        "text/plain": [
                            "<lightgbm.basic.Booster at 0x7ff0fafab730>"
                        ]
                    },
                    "execution_count": 7,
                    "metadata": {},
                    "output_type": "execute_result"
                }
            ],
            "source": [
                "booster = lgb.train(params={}, train_set=lgb.Dataset(data=X, label=y))\n",
                "booster"
            ]
        },
        {
            "cell_type": "markdown",
            "metadata": {},
            "source": [
                "# Predict."
            ]
        },
        {
            "cell_type": "code",
            "execution_count": 8,
            "metadata": {},
            "outputs": [
                {
                    "data": {
                        "text/plain": [
                            "0        4.275814\n",
                            "1        3.962843\n",
                            "2        4.290174\n",
                            "3        3.330437\n",
                            "4        2.511359\n",
                            "           ...   \n",
                            "20635    0.740225\n",
                            "20636    0.927183\n",
                            "20637    0.871949\n",
                            "20638    0.938161\n",
                            "20639    0.920557\n",
                            "Name: Predictions, Length: 20640, dtype: float64"
                        ]
                    },
                    "execution_count": 8,
                    "metadata": {},
                    "output_type": "execute_result"
                }
            ],
            "source": [
                "predictions = pd.Series(booster.predict(X), name=\"Predictions\")\n",
                "predictions"
            ]
        },
        {
            "cell_type": "markdown",
            "metadata": {},
            "source": [
                "# Instantiate `TreeExplainer`."
            ]
        },
        {
            "cell_type": "code",
            "execution_count": 9,
            "metadata": {},
            "outputs": [
                {
                    "data": {
                        "text/plain": [
                            "<fasttreeshap.explainers._tree.Tree at 0x7ff0fafabcd0>"
                        ]
                    },
                    "execution_count": 9,
                    "metadata": {},
                    "output_type": "execute_result"
                }
            ],
            "source": [
                "tree_explainer = fasttreeshap.TreeExplainer(model=booster, shortcut=True)\n",
                "tree_explainer"
            ]
        },
        {
            "cell_type": "markdown",
            "metadata": {},
            "source": [
                "# Attempt explanation."
            ]
        },
        {
            "cell_type": "code",
            "execution_count": 10,
            "metadata": {},
            "outputs": [
                {
                    "ename": "KeyError",
                    "evalue": "'objective'",
                    "output_type": "error",
                    "traceback": [
                        "\u001b[0;31m---------------------------------------------------------------------------\u001b[0m",
                        "\u001b[0;31mKeyError\u001b[0m                                  Traceback (most recent call last)",
                        "\u001b[1;32m/home/repos/XAI/notebooks/lgbm_objective_fast.ipynb Cell 17'\u001b[0m in \u001b[0;36m<cell line: 1>\u001b[0;34m()\u001b[0m\n\u001b[0;32m----> <a href='vscode-notebook-cell://home/repos/XAI/notebooks/lgbm_objective_fast.ipynb#ch0000016vscode-remote?line=0'>1</a>\u001b[0m tree_explainer(X)\n",
                        "File \u001b[0;32m~/repos/.venv/lib/python3.8/site-packages/fasttreeshap/explainers/_tree.py:256\u001b[0m, in \u001b[0;36mTree.__call__\u001b[0;34m(self, X, y, interactions, check_additivity)\u001b[0m\n\u001b[1;32m    <a href='file:///home/repos/.venv/lib/python3.8/site-packages/fasttreeshap/explainers/_tree.py?line=252'>253</a>\u001b[0m     feature_names \u001b[39m=\u001b[39m \u001b[39mgetattr\u001b[39m(\u001b[39mself\u001b[39m, \u001b[39m\"\u001b[39m\u001b[39mdata_feature_names\u001b[39m\u001b[39m\"\u001b[39m, \u001b[39mNone\u001b[39;00m)\n\u001b[1;32m    <a href='file:///home/repos/.venv/lib/python3.8/site-packages/fasttreeshap/explainers/_tree.py?line=254'>255</a>\u001b[0m \u001b[39mif\u001b[39;00m \u001b[39mnot\u001b[39;00m interactions:\n\u001b[0;32m--> <a href='file:///home/repos/.venv/lib/python3.8/site-packages/fasttreeshap/explainers/_tree.py?line=255'>256</a>\u001b[0m     v \u001b[39m=\u001b[39m \u001b[39mself\u001b[39;49m\u001b[39m.\u001b[39;49mshap_values(X, y\u001b[39m=\u001b[39;49my, from_call\u001b[39m=\u001b[39;49m\u001b[39mTrue\u001b[39;49;00m, check_additivity\u001b[39m=\u001b[39;49mcheck_additivity, approximate\u001b[39m=\u001b[39;49m\u001b[39mself\u001b[39;49m\u001b[39m.\u001b[39;49mapproximate)\n\u001b[1;32m    <a href='file:///home/repos/.venv/lib/python3.8/site-packages/fasttreeshap/explainers/_tree.py?line=256'>257</a>\u001b[0m \u001b[39melse\u001b[39;00m:\n\u001b[1;32m    <a href='file:///home/repos/.venv/lib/python3.8/site-packages/fasttreeshap/explainers/_tree.py?line=257'>258</a>\u001b[0m     \u001b[39massert\u001b[39;00m \u001b[39mnot\u001b[39;00m \u001b[39mself\u001b[39m\u001b[39m.\u001b[39mapproximate, \u001b[39m\"\u001b[39m\u001b[39mApproximate computation not yet supported for interaction effects!\u001b[39m\u001b[39m\"\u001b[39m\n",
                        "File \u001b[0;32m~/repos/.venv/lib/python3.8/site-packages/fasttreeshap/explainers/_tree.py:417\u001b[0m, in \u001b[0;36mTree.shap_values\u001b[0;34m(self, X, y, tree_limit, approximate, check_additivity, from_call)\u001b[0m\n\u001b[1;32m    <a href='file:///home/repos/.venv/lib/python3.8/site-packages/fasttreeshap/explainers/_tree.py?line=414'>415</a>\u001b[0m phi \u001b[39m=\u001b[39m \u001b[39mself\u001b[39m\u001b[39m.\u001b[39mmodel\u001b[39m.\u001b[39moriginal_model\u001b[39m.\u001b[39mpredict(X, num_iteration\u001b[39m=\u001b[39mtree_limit, pred_contrib\u001b[39m=\u001b[39m\u001b[39mTrue\u001b[39;00m)\n\u001b[1;32m    <a href='file:///home/repos/.venv/lib/python3.8/site-packages/fasttreeshap/explainers/_tree.py?line=415'>416</a>\u001b[0m \u001b[39m# Note: the data must be joined on the last axis\u001b[39;00m\n\u001b[0;32m--> <a href='file:///home/repos/.venv/lib/python3.8/site-packages/fasttreeshap/explainers/_tree.py?line=416'>417</a>\u001b[0m \u001b[39mif\u001b[39;00m \u001b[39mself\u001b[39;49m\u001b[39m.\u001b[39;49mmodel\u001b[39m.\u001b[39;49moriginal_model\u001b[39m.\u001b[39;49mparams[\u001b[39m'\u001b[39;49m\u001b[39mobjective\u001b[39;49m\u001b[39m'\u001b[39;49m] \u001b[39m==\u001b[39m \u001b[39m'\u001b[39m\u001b[39mbinary\u001b[39m\u001b[39m'\u001b[39m:\n\u001b[1;32m    <a href='file:///home/repos/.venv/lib/python3.8/site-packages/fasttreeshap/explainers/_tree.py?line=417'>418</a>\u001b[0m     \u001b[39mif\u001b[39;00m \u001b[39mnot\u001b[39;00m from_call:\n\u001b[1;32m    <a href='file:///home/repos/.venv/lib/python3.8/site-packages/fasttreeshap/explainers/_tree.py?line=418'>419</a>\u001b[0m         warnings\u001b[39m.\u001b[39mwarn(\u001b[39m'\u001b[39m\u001b[39mLightGBM binary classifier with TreeExplainer shap values output has changed to a list of ndarray\u001b[39m\u001b[39m'\u001b[39m)\n",
                        "\u001b[0;31mKeyError\u001b[0m: 'objective'"
                    ]
                }
            ],
            "source": [
                "tree_explainer(X)"
            ]
        }
    ],
    "metadata": {
        "interpreter": {
            "hash": "495d7b61e177b1650a62dddc0e0d471bab58456193401266cb7e6e67d3837186"
        },
        "kernelspec": {
            "display_name": "Python 3.8.12 ('.venv': poetry)",
            "language": "python",
            "name": "python3"
        },
        "language_info": {
            "codemirror_mode": {
                "name": "ipython",
                "version": 3
            },
            "file_extension": ".py",
            "mimetype": "text/x-python",
            "name": "python",
            "nbconvert_exporter": "python",
            "pygments_lexer": "ipython3",
            "version": "3.8.12"
        },
        "orig_nbformat": 4
    },
    "nbformat": 4,
    "nbformat_minor": 2
}