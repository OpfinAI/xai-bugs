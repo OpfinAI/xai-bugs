{
    "cells": [
        {
            "cell_type": "code",
            "execution_count": 1,
            "metadata": {},
            "outputs": [
                {
                    "name": "stderr",
                    "output_type": "stream",
                    "text": [
                        "\"is not\" with a literal. Did you mean \"!=\"?\n"
                    ]
                }
            ],
            "source": [
                "import shap\n",
                "import interpret\n",
                "import numpy as np\n",
                "import pandas as pd\n",
                "from interpret.glassbox import ExplainableBoostingClassifier"
            ]
        },
        {
            "cell_type": "code",
            "execution_count": 2,
            "metadata": {},
            "outputs": [
                {
                    "data": {
                        "text/plain": [
                            "'0.40.0'"
                        ]
                    },
                    "execution_count": 2,
                    "metadata": {},
                    "output_type": "execute_result"
                }
            ],
            "source": [
                "shap.__version__"
            ]
        },
        {
            "cell_type": "code",
            "execution_count": 3,
            "metadata": {},
            "outputs": [
                {
                    "data": {
                        "text/plain": [
                            "'0.2.7'"
                        ]
                    },
                    "execution_count": 3,
                    "metadata": {},
                    "output_type": "execute_result"
                }
            ],
            "source": [
                "interpret.__version__"
            ]
        },
        {
            "cell_type": "code",
            "execution_count": 4,
            "metadata": {},
            "outputs": [
                {
                    "data": {
                        "text/html": [
                            "<div>\n",
                            "<style scoped>\n",
                            "    .dataframe tbody tr th:only-of-type {\n",
                            "        vertical-align: middle;\n",
                            "    }\n",
                            "\n",
                            "    .dataframe tbody tr th {\n",
                            "        vertical-align: top;\n",
                            "    }\n",
                            "\n",
                            "    .dataframe thead th {\n",
                            "        text-align: right;\n",
                            "    }\n",
                            "</style>\n",
                            "<table border=\"1\" class=\"dataframe\">\n",
                            "  <thead>\n",
                            "    <tr style=\"text-align: right;\">\n",
                            "      <th></th>\n",
                            "      <th>x1</th>\n",
                            "      <th>x2</th>\n",
                            "      <th>x3</th>\n",
                            "      <th>y</th>\n",
                            "    </tr>\n",
                            "  </thead>\n",
                            "  <tbody>\n",
                            "    <tr>\n",
                            "      <th>0</th>\n",
                            "      <td>0.778315</td>\n",
                            "      <td>0.195294</td>\n",
                            "      <td>0.975036</td>\n",
                            "      <td>True</td>\n",
                            "    </tr>\n",
                            "    <tr>\n",
                            "      <th>1</th>\n",
                            "      <td>0.810769</td>\n",
                            "      <td>0.627858</td>\n",
                            "      <td>0.006164</td>\n",
                            "      <td>False</td>\n",
                            "    </tr>\n",
                            "    <tr>\n",
                            "      <th>2</th>\n",
                            "      <td>0.279397</td>\n",
                            "      <td>0.687575</td>\n",
                            "      <td>0.018492</td>\n",
                            "      <td>False</td>\n",
                            "    </tr>\n",
                            "    <tr>\n",
                            "      <th>3</th>\n",
                            "      <td>0.013626</td>\n",
                            "      <td>0.906492</td>\n",
                            "      <td>0.754208</td>\n",
                            "      <td>True</td>\n",
                            "    </tr>\n",
                            "    <tr>\n",
                            "      <th>4</th>\n",
                            "      <td>0.035079</td>\n",
                            "      <td>0.496535</td>\n",
                            "      <td>0.449381</td>\n",
                            "      <td>False</td>\n",
                            "    </tr>\n",
                            "    <tr>\n",
                            "      <th>...</th>\n",
                            "      <td>...</td>\n",
                            "      <td>...</td>\n",
                            "      <td>...</td>\n",
                            "      <td>...</td>\n",
                            "    </tr>\n",
                            "    <tr>\n",
                            "      <th>9995</th>\n",
                            "      <td>0.873209</td>\n",
                            "      <td>0.202091</td>\n",
                            "      <td>0.322911</td>\n",
                            "      <td>False</td>\n",
                            "    </tr>\n",
                            "    <tr>\n",
                            "      <th>9996</th>\n",
                            "      <td>0.540465</td>\n",
                            "      <td>0.796611</td>\n",
                            "      <td>0.477497</td>\n",
                            "      <td>True</td>\n",
                            "    </tr>\n",
                            "    <tr>\n",
                            "      <th>9997</th>\n",
                            "      <td>0.849596</td>\n",
                            "      <td>0.622846</td>\n",
                            "      <td>0.116431</td>\n",
                            "      <td>True</td>\n",
                            "    </tr>\n",
                            "    <tr>\n",
                            "      <th>9998</th>\n",
                            "      <td>0.832166</td>\n",
                            "      <td>0.700043</td>\n",
                            "      <td>0.399819</td>\n",
                            "      <td>True</td>\n",
                            "    </tr>\n",
                            "    <tr>\n",
                            "      <th>9999</th>\n",
                            "      <td>0.401069</td>\n",
                            "      <td>0.165068</td>\n",
                            "      <td>0.192718</td>\n",
                            "      <td>False</td>\n",
                            "    </tr>\n",
                            "  </tbody>\n",
                            "</table>\n",
                            "<p>10000 rows × 4 columns</p>\n",
                            "</div>"
                        ],
                        "text/plain": [
                            "            x1        x2        x3      y\n",
                            "0     0.778315  0.195294  0.975036   True\n",
                            "1     0.810769  0.627858  0.006164  False\n",
                            "2     0.279397  0.687575  0.018492  False\n",
                            "3     0.013626  0.906492  0.754208   True\n",
                            "4     0.035079  0.496535  0.449381  False\n",
                            "...        ...       ...       ...    ...\n",
                            "9995  0.873209  0.202091  0.322911  False\n",
                            "9996  0.540465  0.796611  0.477497   True\n",
                            "9997  0.849596  0.622846  0.116431   True\n",
                            "9998  0.832166  0.700043  0.399819   True\n",
                            "9999  0.401069  0.165068  0.192718  False\n",
                            "\n",
                            "[10000 rows x 4 columns]"
                        ]
                    },
                    "execution_count": 4,
                    "metadata": {},
                    "output_type": "execute_result"
                }
            ],
            "source": [
                "SIZE = int(1e4)\n",
                "data = pd.DataFrame(\n",
                "    {\n",
                "        \"x1\": np.random.rand(SIZE),\n",
                "        \"x2\": np.random.rand(SIZE),\n",
                "        \"x3\": np.random.rand(SIZE)\n",
                "    }\n",
                ")\n",
                "data[\"y\"] = data.mean(axis=1) > 0.5\n",
                "X = data.iloc[:, :-1]\n",
                "y = data[\"y\"]\n",
                "data"
            ]
        },
        {
            "cell_type": "code",
            "execution_count": 5,
            "metadata": {},
            "outputs": [
                {
                    "data": {
                        "text/html": [
                            "<style>#sk-container-id-1 {color: black;background-color: white;}#sk-container-id-1 pre{padding: 0;}#sk-container-id-1 div.sk-toggleable {background-color: white;}#sk-container-id-1 label.sk-toggleable__label {cursor: pointer;display: block;width: 100%;margin-bottom: 0;padding: 0.3em;box-sizing: border-box;text-align: center;}#sk-container-id-1 label.sk-toggleable__label-arrow:before {content: \"▸\";float: left;margin-right: 0.25em;color: #696969;}#sk-container-id-1 label.sk-toggleable__label-arrow:hover:before {color: black;}#sk-container-id-1 div.sk-estimator:hover label.sk-toggleable__label-arrow:before {color: black;}#sk-container-id-1 div.sk-toggleable__content {max-height: 0;max-width: 0;overflow: hidden;text-align: left;background-color: #f0f8ff;}#sk-container-id-1 div.sk-toggleable__content pre {margin: 0.2em;color: black;border-radius: 0.25em;background-color: #f0f8ff;}#sk-container-id-1 input.sk-toggleable__control:checked~div.sk-toggleable__content {max-height: 200px;max-width: 100%;overflow: auto;}#sk-container-id-1 input.sk-toggleable__control:checked~label.sk-toggleable__label-arrow:before {content: \"▾\";}#sk-container-id-1 div.sk-estimator input.sk-toggleable__control:checked~label.sk-toggleable__label {background-color: #d4ebff;}#sk-container-id-1 div.sk-label input.sk-toggleable__control:checked~label.sk-toggleable__label {background-color: #d4ebff;}#sk-container-id-1 input.sk-hidden--visually {border: 0;clip: rect(1px 1px 1px 1px);clip: rect(1px, 1px, 1px, 1px);height: 1px;margin: -1px;overflow: hidden;padding: 0;position: absolute;width: 1px;}#sk-container-id-1 div.sk-estimator {font-family: monospace;background-color: #f0f8ff;border: 1px dotted black;border-radius: 0.25em;box-sizing: border-box;margin-bottom: 0.5em;}#sk-container-id-1 div.sk-estimator:hover {background-color: #d4ebff;}#sk-container-id-1 div.sk-parallel-item::after {content: \"\";width: 100%;border-bottom: 1px solid gray;flex-grow: 1;}#sk-container-id-1 div.sk-label:hover label.sk-toggleable__label {background-color: #d4ebff;}#sk-container-id-1 div.sk-serial::before {content: \"\";position: absolute;border-left: 1px solid gray;box-sizing: border-box;top: 0;bottom: 0;left: 50%;z-index: 0;}#sk-container-id-1 div.sk-serial {display: flex;flex-direction: column;align-items: center;background-color: white;padding-right: 0.2em;padding-left: 0.2em;position: relative;}#sk-container-id-1 div.sk-item {position: relative;z-index: 1;}#sk-container-id-1 div.sk-parallel {display: flex;align-items: stretch;justify-content: center;background-color: white;position: relative;}#sk-container-id-1 div.sk-item::before, #sk-container-id-1 div.sk-parallel-item::before {content: \"\";position: absolute;border-left: 1px solid gray;box-sizing: border-box;top: 0;bottom: 0;left: 50%;z-index: -1;}#sk-container-id-1 div.sk-parallel-item {display: flex;flex-direction: column;z-index: 1;position: relative;background-color: white;}#sk-container-id-1 div.sk-parallel-item:first-child::after {align-self: flex-end;width: 50%;}#sk-container-id-1 div.sk-parallel-item:last-child::after {align-self: flex-start;width: 50%;}#sk-container-id-1 div.sk-parallel-item:only-child::after {width: 0;}#sk-container-id-1 div.sk-dashed-wrapped {border: 1px dashed gray;margin: 0 0.4em 0.5em 0.4em;box-sizing: border-box;padding-bottom: 0.4em;background-color: white;}#sk-container-id-1 div.sk-label label {font-family: monospace;font-weight: bold;display: inline-block;line-height: 1.2em;}#sk-container-id-1 div.sk-label-container {text-align: center;}#sk-container-id-1 div.sk-container {/* jupyter's `normalize.less` sets `[hidden] { display: none; }` but bootstrap.min.css set `[hidden] { display: none !important; }` so we also need the `!important` here to be able to override the default hidden behavior on the sphinx rendered scikit-learn.org. See: https://github.com/scikit-learn/scikit-learn/issues/21755 */display: inline-block !important;position: relative;}#sk-container-id-1 div.sk-text-repr-fallback {display: none;}</style><div id=\"sk-container-id-1\" class=\"sk-top-container\"><div class=\"sk-text-repr-fallback\"><pre>ExplainableBoostingClassifier(feature_names=[&#x27;x1&#x27;, &#x27;x2&#x27;, &#x27;x3&#x27;],\n",
                            "                              feature_types=[&#x27;continuous&#x27;, &#x27;continuous&#x27;,\n",
                            "                                             &#x27;continuous&#x27;],\n",
                            "                              interactions=0)</pre><b>In a Jupyter environment, please rerun this cell to show the HTML representation or trust the notebook. <br />On GitHub, the HTML representation is unable to render, please try loading this page with nbviewer.org.</b></div><div class=\"sk-container\" hidden><div class=\"sk-item\"><div class=\"sk-estimator sk-toggleable\"><input class=\"sk-toggleable__control sk-hidden--visually\" id=\"sk-estimator-id-1\" type=\"checkbox\" checked><label for=\"sk-estimator-id-1\" class=\"sk-toggleable__label sk-toggleable__label-arrow\">ExplainableBoostingClassifier</label><div class=\"sk-toggleable__content\"><pre>ExplainableBoostingClassifier(feature_names=[&#x27;x1&#x27;, &#x27;x2&#x27;, &#x27;x3&#x27;],\n",
                            "                              feature_types=[&#x27;continuous&#x27;, &#x27;continuous&#x27;,\n",
                            "                                             &#x27;continuous&#x27;],\n",
                            "                              interactions=0)</pre></div></div></div></div></div>"
                        ],
                        "text/plain": [
                            "ExplainableBoostingClassifier(feature_names=['x1', 'x2', 'x3'],\n",
                            "                              feature_types=['continuous', 'continuous',\n",
                            "                                             'continuous'],\n",
                            "                              interactions=0)"
                        ]
                    },
                    "execution_count": 5,
                    "metadata": {},
                    "output_type": "execute_result"
                }
            ],
            "source": [
                "model = ExplainableBoostingClassifier(interactions=0).fit(X, y)\n",
                "model"
            ]
        },
        {
            "cell_type": "code",
            "execution_count": 6,
            "metadata": {},
            "outputs": [
                {
                    "ename": "TypeError",
                    "evalue": "__init__() got an unexpected keyword argument 'linearize_link'",
                    "output_type": "error",
                    "traceback": [
                        "\u001b[0;31m---------------------------------------------------------------------------\u001b[0m",
                        "\u001b[0;31mTypeError\u001b[0m                                 Traceback (most recent call last)",
                        "\u001b[1;32m/home/nandish-gupta/repos/SuccessfulAdditiveExplainer.ipynb Cell 6'\u001b[0m in \u001b[0;36m<cell line: 1>\u001b[0;34m()\u001b[0m\n\u001b[0;32m----> <a href='vscode-notebook-cell://ssh-remote%2Bnandish.ai/home/nandish-gupta/repos/SuccessfulAdditiveExplainer.ipynb#ch0000005vscode-remote?line=0'>1</a>\u001b[0m explainer \u001b[39m=\u001b[39m shap\u001b[39m.\u001b[39;49mExplainer(model, X)\n\u001b[1;32m      <a href='vscode-notebook-cell://ssh-remote%2Bnandish.ai/home/nandish-gupta/repos/SuccessfulAdditiveExplainer.ipynb#ch0000005vscode-remote?line=1'>2</a>\u001b[0m explainer\n",
                        "File \u001b[0;32m~/repos/.venv/lib/python3.8/site-packages/shap/explainers/_explainer.py:185\u001b[0m, in \u001b[0;36mExplainer.__init__\u001b[0;34m(self, model, masker, link, algorithm, output_names, feature_names, linearize_link, **kwargs)\u001b[0m\n\u001b[1;32m    <a href='file:///home/nandish-gupta/repos/.venv/lib/python3.8/site-packages/shap/explainers/_explainer.py?line=182'>183</a>\u001b[0m \u001b[39melif\u001b[39;00m algorithm \u001b[39m==\u001b[39m \u001b[39m\"\u001b[39m\u001b[39madditive\u001b[39m\u001b[39m\"\u001b[39m:\n\u001b[1;32m    <a href='file:///home/nandish-gupta/repos/.venv/lib/python3.8/site-packages/shap/explainers/_explainer.py?line=183'>184</a>\u001b[0m     \u001b[39mself\u001b[39m\u001b[39m.\u001b[39m\u001b[39m__class__\u001b[39m \u001b[39m=\u001b[39m explainers\u001b[39m.\u001b[39mAdditive\n\u001b[0;32m--> <a href='file:///home/nandish-gupta/repos/.venv/lib/python3.8/site-packages/shap/explainers/_explainer.py?line=184'>185</a>\u001b[0m     explainers\u001b[39m.\u001b[39;49mAdditive\u001b[39m.\u001b[39;49m\u001b[39m__init__\u001b[39;49m(\u001b[39mself\u001b[39;49m, \u001b[39mself\u001b[39;49m\u001b[39m.\u001b[39;49mmodel, \u001b[39mself\u001b[39;49m\u001b[39m.\u001b[39;49mmasker, link\u001b[39m=\u001b[39;49m\u001b[39mself\u001b[39;49m\u001b[39m.\u001b[39;49mlink, feature_names\u001b[39m=\u001b[39;49m\u001b[39mself\u001b[39;49m\u001b[39m.\u001b[39;49mfeature_names, linearize_link\u001b[39m=\u001b[39;49mlinearize_link, \u001b[39m*\u001b[39;49m\u001b[39m*\u001b[39;49mkwargs)\n\u001b[1;32m    <a href='file:///home/nandish-gupta/repos/.venv/lib/python3.8/site-packages/shap/explainers/_explainer.py?line=185'>186</a>\u001b[0m \u001b[39melif\u001b[39;00m algorithm \u001b[39m==\u001b[39m \u001b[39m\"\u001b[39m\u001b[39mlinear\u001b[39m\u001b[39m\"\u001b[39m:\n\u001b[1;32m    <a href='file:///home/nandish-gupta/repos/.venv/lib/python3.8/site-packages/shap/explainers/_explainer.py?line=186'>187</a>\u001b[0m     \u001b[39mself\u001b[39m\u001b[39m.\u001b[39m\u001b[39m__class__\u001b[39m \u001b[39m=\u001b[39m explainers\u001b[39m.\u001b[39mLinear\n",
                        "\u001b[0;31mTypeError\u001b[0m: __init__() got an unexpected keyword argument 'linearize_link'"
                    ]
                }
            ],
            "source": [
                "explainer = shap.Explainer(model, X)\n",
                "explainer"
            ]
        },
        {
            "cell_type": "code",
            "execution_count": null,
            "metadata": {},
            "outputs": [],
            "source": [
                "assert explainer.linearize_link"
            ]
        },
        {
            "cell_type": "code",
            "execution_count": null,
            "metadata": {},
            "outputs": [],
            "source": [
                "explanation = explainer(X)\n",
                "type(explanation)"
            ]
        },
        {
            "cell_type": "code",
            "execution_count": null,
            "metadata": {},
            "outputs": [],
            "source": [
                "shap.plots.bar(explanation)"
            ]
        }
    ],
    "metadata": {
        "interpreter": {
            "hash": "ce19b2e0a61d581377ddd9e3832a10d6b5902034b65fa21b321d9eb6a81e8d5e"
        },
        "kernelspec": {
            "display_name": "Python 3.8.12 ('.venv': poetry)",
            "language": "python",
            "name": "python3"
        },
        "language_info": {
            "codemirror_mode": {
                "name": "ipython",
                "version": 3
            },
            "file_extension": ".py",
            "mimetype": "text/x-python",
            "name": "python",
            "nbconvert_exporter": "python",
            "pygments_lexer": "ipython3",
            "version": "3.8.12"
        },
        "orig_nbformat": 4
    },
    "nbformat": 4,
    "nbformat_minor": 2
}