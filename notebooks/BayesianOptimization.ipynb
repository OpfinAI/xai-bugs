{
    "cells": [
        {
            "cell_type": "code",
            "execution_count": 1,
            "metadata": {},
            "outputs": [],
            "source": [
                "import scipy\n",
                "import numpy as np\n",
                "import bayes_opt as bo"
            ]
        },
        {
            "cell_type": "code",
            "execution_count": 2,
            "metadata": {},
            "outputs": [
                {
                    "data": {
                        "text/plain": [
                            "'1.8.1'"
                        ]
                    },
                    "execution_count": 2,
                    "metadata": {},
                    "output_type": "execute_result"
                }
            ],
            "source": [
                "scipy.__version__"
            ]
        },
        {
            "cell_type": "code",
            "execution_count": 3,
            "metadata": {},
            "outputs": [],
            "source": [
                "f = lambda x: x**3 + 3 * x**2"
            ]
        },
        {
            "cell_type": "code",
            "execution_count": 4,
            "metadata": {},
            "outputs": [],
            "source": [
                "optimizer = bo.BayesianOptimization(None, {\"x\": (-4.0, 1.0)})"
            ]
        },
        {
            "cell_type": "code",
            "execution_count": 5,
            "metadata": {},
            "outputs": [],
            "source": [
                "optimizer.register(np.array([-4.0]), f(-4.0))\n",
                "optimizer.register(np.array([-2.0]), f(-2.0))"
            ]
        },
        {
            "cell_type": "code",
            "execution_count": 6,
            "metadata": {},
            "outputs": [
                {
                    "ename": "TypeError",
                    "evalue": "'float' object is not subscriptable",
                    "output_type": "error",
                    "traceback": [
                        "\u001b[0;31m---------------------------------------------------------------------------\u001b[0m",
                        "\u001b[0;31mTypeError\u001b[0m                                 Traceback (most recent call last)",
                        "\u001b[1;32m/home/nandish-gupta/repos/BayesianOptimization.ipynb Cell 6'\u001b[0m in \u001b[0;36m<cell line: 1>\u001b[0;34m()\u001b[0m\n\u001b[0;32m----> <a href='vscode-notebook-cell://ssh-remote%2Bnandish-gupta.ai/home/nandish-gupta/repos/BayesianOptimization.ipynb#ch0000001vscode-remote?line=0'>1</a>\u001b[0m optimizer\u001b[39m.\u001b[39;49msuggest(bo\u001b[39m.\u001b[39;49mUtilityFunction(\u001b[39m\"\u001b[39;49m\u001b[39mucb\u001b[39;49m\u001b[39m\"\u001b[39;49m, \u001b[39m5\u001b[39;49m \u001b[39m/\u001b[39;49m \u001b[39m2\u001b[39;49m, \u001b[39m0.0\u001b[39;49m))\n",
                        "File \u001b[0;32m~/repos/.venv/lib/python3.8/site-packages/bayes_opt/bayesian_optimization.py:131\u001b[0m, in \u001b[0;36mBayesianOptimization.suggest\u001b[0;34m(self, utility_function)\u001b[0m\n\u001b[1;32m    <a href='file:///home/nandish-gupta/repos/.venv/lib/python3.8/site-packages/bayes_opt/bayesian_optimization.py?line=127'>128</a>\u001b[0m     \u001b[39mself\u001b[39m\u001b[39m.\u001b[39m_gp\u001b[39m.\u001b[39mfit(\u001b[39mself\u001b[39m\u001b[39m.\u001b[39m_space\u001b[39m.\u001b[39mparams, \u001b[39mself\u001b[39m\u001b[39m.\u001b[39m_space\u001b[39m.\u001b[39mtarget)\n\u001b[1;32m    <a href='file:///home/nandish-gupta/repos/.venv/lib/python3.8/site-packages/bayes_opt/bayesian_optimization.py?line=129'>130</a>\u001b[0m \u001b[39m# Finding argmax of the acquisition function.\u001b[39;00m\n\u001b[0;32m--> <a href='file:///home/nandish-gupta/repos/.venv/lib/python3.8/site-packages/bayes_opt/bayesian_optimization.py?line=130'>131</a>\u001b[0m suggestion \u001b[39m=\u001b[39m acq_max(\n\u001b[1;32m    <a href='file:///home/nandish-gupta/repos/.venv/lib/python3.8/site-packages/bayes_opt/bayesian_optimization.py?line=131'>132</a>\u001b[0m     ac\u001b[39m=\u001b[39;49mutility_function\u001b[39m.\u001b[39;49mutility,\n\u001b[1;32m    <a href='file:///home/nandish-gupta/repos/.venv/lib/python3.8/site-packages/bayes_opt/bayesian_optimization.py?line=132'>133</a>\u001b[0m     gp\u001b[39m=\u001b[39;49m\u001b[39mself\u001b[39;49m\u001b[39m.\u001b[39;49m_gp,\n\u001b[1;32m    <a href='file:///home/nandish-gupta/repos/.venv/lib/python3.8/site-packages/bayes_opt/bayesian_optimization.py?line=133'>134</a>\u001b[0m     y_max\u001b[39m=\u001b[39;49m\u001b[39mself\u001b[39;49m\u001b[39m.\u001b[39;49m_space\u001b[39m.\u001b[39;49mtarget\u001b[39m.\u001b[39;49mmax(),\n\u001b[1;32m    <a href='file:///home/nandish-gupta/repos/.venv/lib/python3.8/site-packages/bayes_opt/bayesian_optimization.py?line=134'>135</a>\u001b[0m     bounds\u001b[39m=\u001b[39;49m\u001b[39mself\u001b[39;49m\u001b[39m.\u001b[39;49m_space\u001b[39m.\u001b[39;49mbounds,\n\u001b[1;32m    <a href='file:///home/nandish-gupta/repos/.venv/lib/python3.8/site-packages/bayes_opt/bayesian_optimization.py?line=135'>136</a>\u001b[0m     random_state\u001b[39m=\u001b[39;49m\u001b[39mself\u001b[39;49m\u001b[39m.\u001b[39;49m_random_state,\n\u001b[1;32m    <a href='file:///home/nandish-gupta/repos/.venv/lib/python3.8/site-packages/bayes_opt/bayesian_optimization.py?line=136'>137</a>\u001b[0m )\n\u001b[1;32m    <a href='file:///home/nandish-gupta/repos/.venv/lib/python3.8/site-packages/bayes_opt/bayesian_optimization.py?line=138'>139</a>\u001b[0m \u001b[39mreturn\u001b[39;00m \u001b[39mself\u001b[39m\u001b[39m.\u001b[39m_space\u001b[39m.\u001b[39marray_to_params(suggestion)\n",
                        "File \u001b[0;32m~/repos/.venv/lib/python3.8/site-packages/bayes_opt/util.py:62\u001b[0m, in \u001b[0;36macq_max\u001b[0;34m(ac, gp, y_max, bounds, random_state, n_warmup, n_iter)\u001b[0m\n\u001b[1;32m     <a href='file:///home/nandish-gupta/repos/.venv/lib/python3.8/site-packages/bayes_opt/util.py?line=58'>59</a>\u001b[0m     \u001b[39mcontinue\u001b[39;00m\n\u001b[1;32m     <a href='file:///home/nandish-gupta/repos/.venv/lib/python3.8/site-packages/bayes_opt/util.py?line=60'>61</a>\u001b[0m \u001b[39m# Store it if better than previous minimum(maximum).\u001b[39;00m\n\u001b[0;32m---> <a href='file:///home/nandish-gupta/repos/.venv/lib/python3.8/site-packages/bayes_opt/util.py?line=61'>62</a>\u001b[0m \u001b[39mif\u001b[39;00m max_acq \u001b[39mis\u001b[39;00m \u001b[39mNone\u001b[39;00m \u001b[39mor\u001b[39;00m \u001b[39m-\u001b[39mres\u001b[39m.\u001b[39;49mfun[\u001b[39m0\u001b[39;49m] \u001b[39m>\u001b[39m\u001b[39m=\u001b[39m max_acq:\n\u001b[1;32m     <a href='file:///home/nandish-gupta/repos/.venv/lib/python3.8/site-packages/bayes_opt/util.py?line=62'>63</a>\u001b[0m     x_max \u001b[39m=\u001b[39m res\u001b[39m.\u001b[39mx\n\u001b[1;32m     <a href='file:///home/nandish-gupta/repos/.venv/lib/python3.8/site-packages/bayes_opt/util.py?line=63'>64</a>\u001b[0m     max_acq \u001b[39m=\u001b[39m \u001b[39m-\u001b[39mres\u001b[39m.\u001b[39mfun[\u001b[39m0\u001b[39m]\n",
                        "\u001b[0;31mTypeError\u001b[0m: 'float' object is not subscriptable"
                    ]
                }
            ],
            "source": [
                "optimizer.suggest(bo.UtilityFunction(\"ucb\", 5 / 2, 0.0))"
            ]
        }
    ],
    "metadata": {
        "interpreter": {
            "hash": "ce19b2e0a61d581377ddd9e3832a10d6b5902034b65fa21b321d9eb6a81e8d5e"
        },
        "kernelspec": {
            "display_name": "Python 3.8.12 ('.venv': poetry)",
            "language": "python",
            "name": "python3"
        },
        "language_info": {
            "codemirror_mode": {
                "name": "ipython",
                "version": 3
            },
            "file_extension": ".py",
            "mimetype": "text/x-python",
            "name": "python",
            "nbconvert_exporter": "python",
            "pygments_lexer": "ipython3",
            "version": "3.8.12"
        },
        "orig_nbformat": 4
    },
    "nbformat": 4,
    "nbformat_minor": 2
}